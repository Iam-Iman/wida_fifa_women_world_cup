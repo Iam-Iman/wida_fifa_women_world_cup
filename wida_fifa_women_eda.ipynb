{
 "cells": [
  {
   "cell_type": "code",
   "execution_count": 1,
   "id": "b76f71d9",
   "metadata": {},
   "outputs": [],
   "source": [
    "import pandas as pd"
   ]
  },
  {
   "cell_type": "code",
   "execution_count": 2,
   "id": "8d3302de",
   "metadata": {},
   "outputs": [
    {
     "name": "stdout",
     "output_type": "stream",
     "text": [
      "(136, 22)\n"
     ]
    },
    {
     "data": {
      "text/html": [
       "<div>\n",
       "<style scoped>\n",
       "    .dataframe tbody tr th:only-of-type {\n",
       "        vertical-align: middle;\n",
       "    }\n",
       "\n",
       "    .dataframe tbody tr th {\n",
       "        vertical-align: top;\n",
       "    }\n",
       "\n",
       "    .dataframe thead th {\n",
       "        text-align: right;\n",
       "    }\n",
       "</style>\n",
       "<table border=\"1\" class=\"dataframe\">\n",
       "  <thead>\n",
       "    <tr style=\"text-align: right;\">\n",
       "      <th></th>\n",
       "      <th>id</th>\n",
       "      <th>squad</th>\n",
       "      <th>year</th>\n",
       "      <th>players</th>\n",
       "      <th>age</th>\n",
       "      <th>possesion</th>\n",
       "      <th>matches_played</th>\n",
       "      <th>starts</th>\n",
       "      <th>min_playing_time</th>\n",
       "      <th>minutes_played_90s</th>\n",
       "      <th>...</th>\n",
       "      <th>non_penalty_goals</th>\n",
       "      <th>penalty_kicks_made</th>\n",
       "      <th>penalty_kicks_attempted</th>\n",
       "      <th>yellow_cards</th>\n",
       "      <th>red_cards</th>\n",
       "      <th>goals_per_90</th>\n",
       "      <th>assists_per_90</th>\n",
       "      <th>goals_plus_assists_per_90</th>\n",
       "      <th>goals_minus_penalty_kicks_per_90</th>\n",
       "      <th>goals_plus_assists_minus_penalty_kicks_per_90</th>\n",
       "    </tr>\n",
       "  </thead>\n",
       "  <tbody>\n",
       "    <tr>\n",
       "      <th>0</th>\n",
       "      <td>1</td>\n",
       "      <td>Argentina</td>\n",
       "      <td>2019</td>\n",
       "      <td>18</td>\n",
       "      <td>26.8</td>\n",
       "      <td>34.7</td>\n",
       "      <td>3</td>\n",
       "      <td>33</td>\n",
       "      <td>270</td>\n",
       "      <td>3.0</td>\n",
       "      <td>...</td>\n",
       "      <td>1</td>\n",
       "      <td>1</td>\n",
       "      <td>1</td>\n",
       "      <td>3.0</td>\n",
       "      <td>0.0</td>\n",
       "      <td>0.67</td>\n",
       "      <td>0.33</td>\n",
       "      <td>1.00</td>\n",
       "      <td>0.33</td>\n",
       "      <td>0.67</td>\n",
       "    </tr>\n",
       "    <tr>\n",
       "      <th>1</th>\n",
       "      <td>2</td>\n",
       "      <td>Australia</td>\n",
       "      <td>2019</td>\n",
       "      <td>18</td>\n",
       "      <td>25.4</td>\n",
       "      <td>61.3</td>\n",
       "      <td>4</td>\n",
       "      <td>44</td>\n",
       "      <td>390</td>\n",
       "      <td>4.3</td>\n",
       "      <td>...</td>\n",
       "      <td>8</td>\n",
       "      <td>0</td>\n",
       "      <td>1</td>\n",
       "      <td>2.0</td>\n",
       "      <td>0.0</td>\n",
       "      <td>1.85</td>\n",
       "      <td>0.92</td>\n",
       "      <td>2.77</td>\n",
       "      <td>1.85</td>\n",
       "      <td>2.77</td>\n",
       "    </tr>\n",
       "    <tr>\n",
       "      <th>2</th>\n",
       "      <td>3</td>\n",
       "      <td>Brazil</td>\n",
       "      <td>2019</td>\n",
       "      <td>18</td>\n",
       "      <td>29.7</td>\n",
       "      <td>51.5</td>\n",
       "      <td>4</td>\n",
       "      <td>44</td>\n",
       "      <td>390</td>\n",
       "      <td>4.3</td>\n",
       "      <td>...</td>\n",
       "      <td>5</td>\n",
       "      <td>2</td>\n",
       "      <td>3</td>\n",
       "      <td>7.0</td>\n",
       "      <td>0.0</td>\n",
       "      <td>1.62</td>\n",
       "      <td>0.69</td>\n",
       "      <td>2.31</td>\n",
       "      <td>1.15</td>\n",
       "      <td>1.85</td>\n",
       "    </tr>\n",
       "    <tr>\n",
       "      <th>3</th>\n",
       "      <td>4</td>\n",
       "      <td>Cameroon</td>\n",
       "      <td>2019</td>\n",
       "      <td>20</td>\n",
       "      <td>27.7</td>\n",
       "      <td>36.0</td>\n",
       "      <td>4</td>\n",
       "      <td>44</td>\n",
       "      <td>360</td>\n",
       "      <td>4.0</td>\n",
       "      <td>...</td>\n",
       "      <td>3</td>\n",
       "      <td>0</td>\n",
       "      <td>0</td>\n",
       "      <td>6.0</td>\n",
       "      <td>0.0</td>\n",
       "      <td>0.75</td>\n",
       "      <td>0.75</td>\n",
       "      <td>1.50</td>\n",
       "      <td>0.75</td>\n",
       "      <td>1.50</td>\n",
       "    </tr>\n",
       "    <tr>\n",
       "      <th>4</th>\n",
       "      <td>5</td>\n",
       "      <td>Canada</td>\n",
       "      <td>2019</td>\n",
       "      <td>16</td>\n",
       "      <td>27.0</td>\n",
       "      <td>63.0</td>\n",
       "      <td>4</td>\n",
       "      <td>44</td>\n",
       "      <td>360</td>\n",
       "      <td>4.0</td>\n",
       "      <td>...</td>\n",
       "      <td>4</td>\n",
       "      <td>0</td>\n",
       "      <td>1</td>\n",
       "      <td>2.0</td>\n",
       "      <td>0.0</td>\n",
       "      <td>1.00</td>\n",
       "      <td>0.75</td>\n",
       "      <td>1.75</td>\n",
       "      <td>1.00</td>\n",
       "      <td>1.75</td>\n",
       "    </tr>\n",
       "  </tbody>\n",
       "</table>\n",
       "<p>5 rows × 22 columns</p>\n",
       "</div>"
      ],
      "text/plain": [
       "   id      squad  year  players   age  possesion  matches_played  starts  \\\n",
       "0   1  Argentina  2019       18  26.8       34.7               3      33   \n",
       "1   2  Australia  2019       18  25.4       61.3               4      44   \n",
       "2   3     Brazil  2019       18  29.7       51.5               4      44   \n",
       "3   4   Cameroon  2019       20  27.7       36.0               4      44   \n",
       "4   5     Canada  2019       16  27.0       63.0               4      44   \n",
       "\n",
       "   min_playing_time  minutes_played_90s  ...  non_penalty_goals  \\\n",
       "0               270                 3.0  ...                  1   \n",
       "1               390                 4.3  ...                  8   \n",
       "2               390                 4.3  ...                  5   \n",
       "3               360                 4.0  ...                  3   \n",
       "4               360                 4.0  ...                  4   \n",
       "\n",
       "   penalty_kicks_made  penalty_kicks_attempted  yellow_cards  red_cards  \\\n",
       "0                   1                        1           3.0        0.0   \n",
       "1                   0                        1           2.0        0.0   \n",
       "2                   2                        3           7.0        0.0   \n",
       "3                   0                        0           6.0        0.0   \n",
       "4                   0                        1           2.0        0.0   \n",
       "\n",
       "   goals_per_90  assists_per_90  goals_plus_assists_per_90  \\\n",
       "0          0.67            0.33                       1.00   \n",
       "1          1.85            0.92                       2.77   \n",
       "2          1.62            0.69                       2.31   \n",
       "3          0.75            0.75                       1.50   \n",
       "4          1.00            0.75                       1.75   \n",
       "\n",
       "   goals_minus_penalty_kicks_per_90  \\\n",
       "0                              0.33   \n",
       "1                              1.85   \n",
       "2                              1.15   \n",
       "3                              0.75   \n",
       "4                              1.00   \n",
       "\n",
       "   goals_plus_assists_minus_penalty_kicks_per_90  \n",
       "0                                           0.67  \n",
       "1                                           2.77  \n",
       "2                                           1.85  \n",
       "3                                           1.50  \n",
       "4                                           1.75  \n",
       "\n",
       "[5 rows x 22 columns]"
      ]
     },
     "execution_count": 2,
     "metadata": {},
     "output_type": "execute_result"
    }
   ],
   "source": [
    "fifa = pd.read_csv('womens-world-cup.csv')\n",
    "print(fifa.shape)\n",
    "fifa.head()"
   ]
  },
  {
   "cell_type": "code",
   "execution_count": 3,
   "id": "64f78fa4",
   "metadata": {},
   "outputs": [],
   "source": [
    "from ydata_profiling import ProfileReport"
   ]
  },
  {
   "cell_type": "code",
   "execution_count": 6,
   "id": "16ba8a91",
   "metadata": {},
   "outputs": [
    {
     "data": {
      "application/vnd.jupyter.widget-view+json": {
       "model_id": "d1a4628d174548b18d8228a98025161e",
       "version_major": 2,
       "version_minor": 0
      },
      "text/plain": [
       "Summarize dataset:   0%|          | 0/5 [00:00<?, ?it/s]"
      ]
     },
     "metadata": {},
     "output_type": "display_data"
    },
    {
     "data": {
      "application/vnd.jupyter.widget-view+json": {
       "model_id": "5bf1f565d8b3431cadf849a52bef804b",
       "version_major": 2,
       "version_minor": 0
      },
      "text/plain": [
       "Generate report structure:   0%|          | 0/1 [00:00<?, ?it/s]"
      ]
     },
     "metadata": {},
     "output_type": "display_data"
    },
    {
     "data": {
      "application/vnd.jupyter.widget-view+json": {
       "model_id": "997e1a79c6384e889eda988e82b1be71",
       "version_major": 2,
       "version_minor": 0
      },
      "text/plain": [
       "Render HTML:   0%|          | 0/1 [00:00<?, ?it/s]"
      ]
     },
     "metadata": {},
     "output_type": "display_data"
    },
    {
     "data": {
      "application/vnd.jupyter.widget-view+json": {
       "model_id": "36995a06b68e4538af84eaad85e25a35",
       "version_major": 2,
       "version_minor": 0
      },
      "text/plain": [
       "Export report to file:   0%|          | 0/1 [00:00<?, ?it/s]"
      ]
     },
     "metadata": {},
     "output_type": "display_data"
    }
   ],
   "source": [
    "profile = ProfileReport(fifa)\n",
    "profile.to_file(output_file='about_fifa.html')"
   ]
  },
  {
   "cell_type": "code",
   "execution_count": 5,
   "id": "15a0fd93",
   "metadata": {},
   "outputs": [],
   "source": [
    "#fifa.info()"
   ]
  },
  {
   "cell_type": "markdown",
   "id": "568894d0",
   "metadata": {},
   "source": []
  }
 ],
 "metadata": {
  "kernelspec": {
   "display_name": "Python 3 (ipykernel)",
   "language": "python",
   "name": "python3"
  },
  "language_info": {
   "codemirror_mode": {
    "name": "ipython",
    "version": 3
   },
   "file_extension": ".py",
   "mimetype": "text/x-python",
   "name": "python",
   "nbconvert_exporter": "python",
   "pygments_lexer": "ipython3",
   "version": "3.9.12"
  }
 },
 "nbformat": 4,
 "nbformat_minor": 5
}
